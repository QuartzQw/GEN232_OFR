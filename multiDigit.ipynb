{
 "cells": [
  {
   "cell_type": "code",
   "execution_count": 7,
   "metadata": {},
   "outputs": [
    {
     "name": "stderr",
     "output_type": "stream",
     "text": [
      "WARNING:absl:Compiled the loaded model, but the compiled metrics have yet to be built. `model.compile_metrics` will be empty until you train or evaluate the model.\n"
     ]
    },
    {
     "name": "stdout",
     "output_type": "stream",
     "text": [
      "(48, 194)\n",
      "WARNING:tensorflow:5 out of the last 5 calls to <function TensorFlowTrainer.make_predict_function.<locals>.one_step_on_data_distributed at 0x000001A9811C8430> triggered tf.function retracing. Tracing is expensive and the excessive number of tracings could be due to (1) creating @tf.function repeatedly in a loop, (2) passing tensors with different shapes, (3) passing Python objects instead of tensors. For (1), please define your @tf.function outside of the loop. For (2), @tf.function has reduce_retracing=True option that can avoid unnecessary retracing. For (3), please refer to https://www.tensorflow.org/guide/function#controlling_retracing and https://www.tensorflow.org/api_docs/python/tf/function for  more details.\n"
     ]
    },
    {
     "name": "stderr",
     "output_type": "stream",
     "text": [
      "WARNING:tensorflow:5 out of the last 5 calls to <function TensorFlowTrainer.make_predict_function.<locals>.one_step_on_data_distributed at 0x000001A9811C8430> triggered tf.function retracing. Tracing is expensive and the excessive number of tracings could be due to (1) creating @tf.function repeatedly in a loop, (2) passing tensors with different shapes, (3) passing Python objects instead of tensors. For (1), please define your @tf.function outside of the loop. For (2), @tf.function has reduce_retracing=True option that can avoid unnecessary retracing. For (3), please refer to https://www.tensorflow.org/guide/function#controlling_retracing and https://www.tensorflow.org/api_docs/python/tf/function for  more details.\n"
     ]
    },
    {
     "name": "stdout",
     "output_type": "stream",
     "text": [
      "\u001b[1m1/1\u001b[0m \u001b[32m━━━━━━━━━━━━━━━━━━━━\u001b[0m\u001b[37m\u001b[0m \u001b[1m0s\u001b[0m 65ms/step\n",
      "Predicted digits: [np.int64(5), np.int64(0)]\n"
     ]
    },
    {
     "data": {
      "image/png": "[encoded data removed]",
      "text/plain": [
       "<Figure size 640x480 with 1 Axes>"
      ]
     },
     "metadata": {},
     "output_type": "display_data"
    }
   ],
   "source": [
    "import cv2\n",
    "import numpy as np\n",
    "import matplotlib.pyplot as plt\n",
    "from tensorflow.keras.models import load_model\n",
    "from tensorflow.keras.preprocessing.image import img_to_array\n",
    "\n",
    "# Load pre-trained MNIST model\n",
    "model = load_model('mnist_cnn.h5')  # Replace with your model path or train one\n",
    "\n",
    "def preprocess_image(image_path):\n",
    "    \"\"\"Load and preprocess the image\"\"\"\n",
    "    # Read image in grayscale\n",
    "    img = cv2.imread(image_path, cv2.IMREAD_GRAYSCALE)\n",
    "    print(img.shape)\n",
    "    if img is None:\n",
    "        raise ValueError(\"Image not found or invalid path\")\n",
    "    \n",
    "    # Invert and threshold image (assuming black digits on white background)\n",
    "    img = cv2.bitwise_not(img)\n",
    "    _, thresh = cv2.threshold(img, 127, 255, cv2.THRESH_BINARY)\n",
    "    \n",
    "    return thresh\n",
    "\n",
    "def find_digits(image):\n",
    "    \"\"\"Find contours of individual digits in the image\"\"\"\n",
    "    # Find contours\n",
    "    contours, _ = cv2.findContours(image.copy(), cv2.RETR_EXTERNAL, cv2.CHAIN_APPROX_SIMPLE)\n",
    "    \n",
    "    # Get bounding boxes for each contour\n",
    "    digit_rects = [cv2.boundingRect(contour) for contour in contours]\n",
    "    \n",
    "    # Sort bounding boxes from left to right\n",
    "    digit_rects.sort(key=lambda x: x[0])\n",
    "    \n",
    "    return digit_rects\n",
    "\n",
    "def extract_digits(image, digit_rects, padding=5):\n",
    "    \"\"\"Extract and preprocess each digit\"\"\"\n",
    "    digits = []\n",
    "    for rect in digit_rects:\n",
    "        x, y, w, h = rect\n",
    "        \n",
    "        # Add padding around the digit\n",
    "        x_start = max(0, x - padding)\n",
    "        y_start = max(0, y - padding)\n",
    "        x_end = min(image.shape[1], x + w + padding)\n",
    "        y_end = min(image.shape[0], y + h + padding)\n",
    "        \n",
    "        # Extract the digit\n",
    "        digit = image[y_start:y_end, x_start:x_end]\n",
    "        \n",
    "        # Resize to 28x28 (MNIST standard)\n",
    "        digit = cv2.resize(digit, (28, 28))\n",
    "        \n",
    "        # Normalize pixel values\n",
    "        digit = digit.astype('float32') / 255.0\n",
    "        \n",
    "        # Reshape for model input (add channel dimension)\n",
    "        digit = np.expand_dims(digit, axis=-1)\n",
    "        \n",
    "        digits.append(digit)\n",
    "    \n",
    "    return np.array(digits)\n",
    "\n",
    "def predict_digits(model, digits):\n",
    "    \"\"\"Predict digits using the trained model\"\"\"\n",
    "    predictions = model.predict(digits)\n",
    "    predicted_digits = [np.argmax(pred) for pred in predictions]\n",
    "    return predicted_digits\n",
    "\n",
    "def display_results(image, digit_rects, predictions):\n",
    "    \"\"\"Display the original image with bounding boxes and predictions\"\"\"\n",
    "    # Convert back to RGB for display\n",
    "    img_display = cv2.cvtColor(image, cv2.COLOR_GRAY2RGB)\n",
    "    \n",
    "    for rect, pred in zip(digit_rects, predictions):\n",
    "        x, y, w, h = rect\n",
    "        \n",
    "        # Draw rectangle around digit\n",
    "        cv2.rectangle(img_display, (x, y), (x + w, y + h), (0, 255, 0), 2)\n",
    "        \n",
    "        # Put predicted digit\n",
    "        cv2.putText(img_display, str(pred), (x, y - 10), \n",
    "                   cv2.FONT_HERSHEY_SIMPLEX, 1, (255, 0, 0), 2)\n",
    "    \n",
    "    plt.imshow(img_display)\n",
    "    plt.axis('off')\n",
    "    plt.show()\n",
    "\n",
    "def classify_handwritten_digits(image_path):\n",
    "    \"\"\"Main function to classify multiple handwritten digits in an image\"\"\"\n",
    "    try:\n",
    "        # Step 1: Preprocess the image\n",
    "        processed_img = preprocess_image(image_path)\n",
    "        \n",
    "        # Step 2: Find individual digits\n",
    "        digit_rects = find_digits(processed_img)\n",
    "        \n",
    "        if not digit_rects:\n",
    "            print(\"No digits found in the image.\")\n",
    "            return\n",
    "        \n",
    "        # Step 3: Extract and prepare each digit\n",
    "        digits = extract_digits(processed_img, digit_rects)\n",
    "        \n",
    "        # Step 4: Predict digits\n",
    "        predictions = predict_digits(model, digits)\n",
    "        \n",
    "        print(\"Predicted digits:\", predictions)\n",
    "        \n",
    "        # Step 5: Display results\n",
    "        display_results(processed_img, digit_rects, predictions)\n",
    "        \n",
    "        return predictions\n",
    "        \n",
    "    except Exception as e:\n",
    "        print(f\"Error: {e}\")\n",
    "\n",
    "# Example usage\n",
    "if __name__ == \"__main__\":\n",
    "    image_path = \"imageForTesting\\\\16.png\"  # Replace with your image path\n",
    "    classify_handwritten_digits(image_path)"
   ]
  },
  {
   "cell_type": "code",
   "execution_count": 10,
   "metadata": {},
   "outputs": [
    {
     "name": "stdout",
     "output_type": "stream",
     "text": [
      "Epoch 1/5\n"
     ]
    },
    {
     "name": "stderr",
     "output_type": "stream",
     "text": [
      "c:\\gen232\\env\\lib\\site-packages\\keras\\src\\layers\\convolutional\\base_conv.py:107: UserWarning: Do not pass an `input_shape`/`input_dim` argument to a layer. When using Sequential models, prefer using an `Input(shape)` object as the first layer in the model instead.\n",
      "  super().__init__(activity_regularizer=activity_regularizer, **kwargs)\n"
     ]
    },
    {
     "name": "stdout",
     "output_type": "stream",
     "text": [
      "\u001b[1m938/938\u001b[0m \u001b[32m━━━━━━━━━━━━━━━━━━━━\u001b[0m\u001b[37m\u001b[0m \u001b[1m32s\u001b[0m 32ms/step - accuracy: 0.8849 - loss: 0.3880 - val_accuracy: 0.9861 - val_loss: 0.0405\n",
      "Epoch 2/5\n",
      "\u001b[1m938/938\u001b[0m \u001b[32m━━━━━━━━━━━━━━━━━━━━\u001b[0m\u001b[37m\u001b[0m \u001b[1m30s\u001b[0m 32ms/step - accuracy: 0.9795 - loss: 0.0671 - val_accuracy: 0.9919 - val_loss: 0.0245\n",
      "Epoch 3/5\n",
      "\u001b[1m938/938\u001b[0m \u001b[32m━━━━━━━━━━━━━━━━━━━━\u001b[0m\u001b[37m\u001b[0m \u001b[1m30s\u001b[0m 32ms/step - accuracy: 0.9855 - loss: 0.0473 - val_accuracy: 0.9926 - val_loss: 0.0226\n",
      "Epoch 4/5\n",
      "\u001b[1m938/938\u001b[0m \u001b[32m━━━━━━━━━━━━━━━━━━━━\u001b[0m\u001b[37m\u001b[0m \u001b[1m31s\u001b[0m 33ms/step - accuracy: 0.9867 - loss: 0.0407 - val_accuracy: 0.9935 - val_loss: 0.0186\n",
      "Epoch 5/5\n",
      "\u001b[1m938/938\u001b[0m \u001b[32m━━━━━━━━━━━━━━━━━━━━\u001b[0m\u001b[37m\u001b[0m \u001b[1m30s\u001b[0m 32ms/step - accuracy: 0.9883 - loss: 0.0355 - val_accuracy: 0.9931 - val_loss: 0.0199\n"
     ]
    },
    {
     "name": "stderr",
     "output_type": "stream",
     "text": [
      "WARNING:absl:You are saving your model as an HDF5 file via `model.save()` or `keras.saving.save_model(model)`. This file format is considered legacy. We recommend using instead the native Keras format, e.g. `model.save('my_model.keras')` or `keras.saving.save_model(model, 'my_model.keras')`. \n"
     ]
    }
   ],
   "source": [
    "from tensorflow.keras.datasets import mnist\n",
    "from tensorflow.keras.models import Sequential\n",
    "from tensorflow.keras.layers import Conv2D, MaxPooling2D, Flatten, Dense, BatchNormalization, Dropout\n",
    "from tensorflow.keras.utils import to_categorical\n",
    "\n",
    "# Load MNIST data\n",
    "(X_train, y_train), (X_test, y_test) = mnist.load_data()\n",
    "\n",
    "# Preprocess data\n",
    "X_train = X_train.reshape(-1, 28, 28, 1).astype('float32') / 255.0\n",
    "X_test = X_test.reshape(-1, 28, 28, 1).astype('float32') / 255.0\n",
    "y_train = to_categorical(y_train, 10)\n",
    "y_test = to_categorical(y_test, 10)\n",
    "\n",
    "# Build model\n",
    "model = Sequential([\n",
    "    # Conv2D(32, (3, 3), activation='relu', input_shape=(28, 28, 1)),\n",
    "    # MaxPooling2D((2, 2)),\n",
    "    # Conv2D(64, (3, 3), activation='relu'),\n",
    "    # MaxPooling2D((2, 2)),\n",
    "    # Flatten(),\n",
    "    # Dense(128, activation='relu'),\n",
    "    # Dense(10, activation='softmax')\n",
    "    Conv2D(32, (3, 3), activation='relu', input_shape=(28, 28, 1)),\n",
    "    BatchNormalization(),\n",
    "    Conv2D(32, (3, 3), activation='relu'),\n",
    "    BatchNormalization(),\n",
    "    MaxPooling2D((2, 2)),\n",
    "    Dropout(0.25),\n",
    "    \n",
    "    Conv2D(64, (3, 3), activation='relu'),\n",
    "    BatchNormalization(),\n",
    "    Conv2D(64, (3, 3), activation='relu'),\n",
    "    BatchNormalization(),\n",
    "    MaxPooling2D((2, 2)),\n",
    "    Dropout(0.25),\n",
    "    \n",
    "    Flatten(),\n",
    "    Dense(256, activation='relu'),\n",
    "    BatchNormalization(),\n",
    "    Dropout(0.5),\n",
    "    Dense(10, activation='softmax')\n",
    "])\n",
    "\n",
    "model.compile(optimizer='adam', loss='categorical_crossentropy', metrics=['accuracy'])\n",
    "\n",
    "# Train model\n",
    "model.fit(X_train, y_train, epochs=5, batch_size=64, validation_data=(X_test, y_test))\n",
    "\n",
    "# Save model\n",
    "model.save('mnist_cnn.h5')"
   ]
  },
  {
   "cell_type": "code",
   "execution_count": null,
   "metadata": {},
   "outputs": [],
   "source": []
  }
 ],
 "metadata": {
  "kernelspec": {
   "display_name": "Python 3",
   "language": "python",
   "name": "python3"
  },
  "language_info": {
   "codemirror_mode": {
    "name": "ipython",
    "version": 3
   },
   "file_extension": ".py",
   "mimetype": "text/x-python",
   "name": "python",
   "nbconvert_exporter": "python",
   "pygments_lexer": "ipython3",
   "version": "3.10.16"
  }
 },
 "nbformat": 4,
 "nbformat_minor": 2
}
